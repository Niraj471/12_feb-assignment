{
 "cells": [
  {
   "cell_type": "code",
   "execution_count": 1,
   "id": "c5ae9920-3337-4cbc-9428-7eb62c549b72",
   "metadata": {},
   "outputs": [],
   "source": [
    "##Q1.>\n",
    "##Ans.An error is an issue in a program that prevents the program from completing its task. In comparison, an exception is a condition that interrupts the normal flow of the program. Both errors and exceptions are a type of runtime error, which means they occur during the execution of a program.\n"
   ]
  },
  {
   "cell_type": "code",
   "execution_count": 2,
   "id": "1a48d82d-c64c-43a4-b5f2-bd51adea3f7b",
   "metadata": {},
   "outputs": [],
   "source": [
    "##Q2.>\n",
    "##Ans.What happens if an exception is not caught? If an exception is not caught (with a catch block), the runtime system will abort the program (i.e. crash) and an exception message will print to the console."
   ]
  },
  {
   "cell_type": "code",
   "execution_count": 5,
   "id": "99bf5e9e-fd53-4323-92d4-2791acd3ee65",
   "metadata": {},
   "outputs": [],
   "source": [
    "##Q3.>\n",
    "##Ans.The try and except block in Python is used to catch and handle exceptions. Python executes code following the try statement as a “normal” part of the program. The code that follows the except statement is the program's response to any exceptions in the preceding try clause."
   ]
  },
  {
   "cell_type": "code",
   "execution_count": 6,
   "id": "10ea8da5-dc74-4b9f-8214-1bc701ed5cb5",
   "metadata": {},
   "outputs": [
    {
     "name": "stdout",
     "output_type": "stream",
     "text": [
      "this else block will be executed if the try block is executed succefully\n"
     ]
    }
   ],
   "source": [
    "##Q4.>\n",
    "##Ans. 1.try and else :\n",
    "try:\n",
    "    f = open(\"text.txt\",'w')\n",
    "    f.write(\"write in my file\")\n",
    "    \n",
    "except Exception as e:\n",
    "    print(\"this is my except block\",e)\n",
    "else:\n",
    "    f.close()\n",
    "    print(\"this else block will be executed if the try block is executed succefully\")\n",
    "    "
   ]
  },
  {
   "cell_type": "code",
   "execution_count": 7,
   "id": "2cd1dfee-f170-4c3c-aa4e-a7fc88fb41c2",
   "metadata": {},
   "outputs": [
    {
     "name": "stdout",
     "output_type": "stream",
     "text": [
      "finally will execute itself in any situation\n"
     ]
    }
   ],
   "source": [
    "##2. finally\n",
    "\n",
    "try :\n",
    "    f = open(\"tet1.txt\",'w')\n",
    "    f.write(\"write something\")\n",
    "    \n",
    "finally:\n",
    "    print(\"finally will execute itself in any situation\")\n",
    "    \n",
    "    "
   ]
  },
  {
   "cell_type": "code",
   "execution_count": 8,
   "id": "2eca585c-befa-4687-98de-40277fb6e06c",
   "metadata": {},
   "outputs": [],
   "source": [
    "##Q5.>\n",
    "##Ans.Having custom exceptions - tailored to your specific use cases and that you can raise and catch in specific circumstances - can make your code much more readable and robust, and reduce the amount of code you write later to try and figure out what exactly went wrong.\n"
   ]
  },
  {
   "cell_type": "code",
   "execution_count": 9,
   "id": "2bf355b4-980d-4b93-b678-f775e831ed47",
   "metadata": {},
   "outputs": [],
   "source": [
    "##Q6.>\n",
    "class valid_no(Exception):\n",
    "    \n",
    "    def __init__(self,number):\n",
    "        self.number = number"
   ]
  },
  {
   "cell_type": "code",
   "execution_count": 10,
   "id": "e6119e55-b2a6-4846-905d-38284998b9f8",
   "metadata": {},
   "outputs": [],
   "source": [
    "def number_in(num):\n",
    "    if num < 0:\n",
    "        raise valid_no(\"entered number is negative\")\n",
    "    elif num != int:\n",
    "        raise valid_no(\"number is not int\")\n",
    "        \n",
    "    else:\n",
    "        print(\"number is valid\")"
   ]
  },
  {
   "cell_type": "code",
   "execution_count": 13,
   "id": "25d05886-c61f-4e30-abd1-1ae5ae71e065",
   "metadata": {},
   "outputs": [
    {
     "name": "stdin",
     "output_type": "stream",
     "text": [
      "enter your age -9\n"
     ]
    },
    {
     "name": "stdout",
     "output_type": "stream",
     "text": [
      "entered number is negative\n"
     ]
    }
   ],
   "source": [
    "try :\n",
    "    num = int(input(\"enter your age\"))\n",
    "    number_in(num)\n",
    "   \n",
    "except valid_no as e:\n",
    "    \n",
    "    print(e)"
   ]
  },
  {
   "cell_type": "code",
   "execution_count": null,
   "id": "de15e557-5cab-4cd1-b6d5-5d81a53909bc",
   "metadata": {},
   "outputs": [],
   "source": []
  }
 ],
 "metadata": {
  "kernelspec": {
   "display_name": "Python 3 (ipykernel)",
   "language": "python",
   "name": "python3"
  },
  "language_info": {
   "codemirror_mode": {
    "name": "ipython",
    "version": 3
   },
   "file_extension": ".py",
   "mimetype": "text/x-python",
   "name": "python",
   "nbconvert_exporter": "python",
   "pygments_lexer": "ipython3",
   "version": "3.10.8"
  }
 },
 "nbformat": 4,
 "nbformat_minor": 5
}
